{
 "cells": [
  {
   "cell_type": "markdown",
   "metadata": {},
   "source": [
    "# Linear Regression"
   ]
  },
  {
   "cell_type": "markdown",
   "metadata": {},
   "source": [
    "Linear regression of ESG features with respect to yearly average of Adjusted Closing Stock Price, yearly average of log returns and alpha estimation of 500 US companies."
   ]
  },
  {
   "cell_type": "code",
   "execution_count": 95,
   "metadata": {},
   "outputs": [],
   "source": [
    "import numpy as np\n",
    "import pandas as pd\n",
    "import quandl\n",
    "import matplotlib.pyplot as plt\n",
    "import datetime\n",
    "import requests\n",
    "import json\n",
    "import sklearn\n",
    "pd.set_option('display.max_columns', None)"
   ]
  },
  {
   "cell_type": "markdown",
   "metadata": {},
   "source": [
    "To generate the feaures for this regression we have combined data from Quandl and Revit. More specifically we have taken the 'EOD US Stock Exchange' dataset from Quandl and the 'ESG' dataset from Refinitiv."
   ]
  },
  {
   "cell_type": "code",
   "execution_count": 97,
   "metadata": {},
   "outputs": [
    {
     "data": {
      "text/html": [
       "<div>\n",
       "<style scoped>\n",
       "    .dataframe tbody tr th:only-of-type {\n",
       "        vertical-align: middle;\n",
       "    }\n",
       "\n",
       "    .dataframe tbody tr th {\n",
       "        vertical-align: top;\n",
       "    }\n",
       "\n",
       "    .dataframe thead th {\n",
       "        text-align: right;\n",
       "    }\n",
       "</style>\n",
       "<table border=\"1\" class=\"dataframe\">\n",
       "  <thead>\n",
       "    <tr style=\"text-align: right;\">\n",
       "      <th></th>\n",
       "      <th>Unnamed: 0</th>\n",
       "      <th>Year</th>\n",
       "      <th>Adj_Close</th>\n",
       "      <th>Adj_High</th>\n",
       "      <th>Adj_Low</th>\n",
       "      <th>Adj_Open</th>\n",
       "      <th>Adj_Volume</th>\n",
       "      <th>CSR Strategy Score</th>\n",
       "      <th>Close</th>\n",
       "      <th>Community Score</th>\n",
       "      <th>Date</th>\n",
       "      <th>Dividend</th>\n",
       "      <th>ESG Combined Score</th>\n",
       "      <th>ESG Controversies Score</th>\n",
       "      <th>ESG Period Last Update Date</th>\n",
       "      <th>ESG Score</th>\n",
       "      <th>Emissions Score</th>\n",
       "      <th>Environment Pillar Score</th>\n",
       "      <th>Governance Pillar Score</th>\n",
       "      <th>High</th>\n",
       "      <th>Human Rights Score</th>\n",
       "      <th>Innovation Score</th>\n",
       "      <th>Instrument</th>\n",
       "      <th>Low</th>\n",
       "      <th>Management Score</th>\n",
       "      <th>Open</th>\n",
       "      <th>Period End Date</th>\n",
       "      <th>Product Responsibility Score</th>\n",
       "      <th>Resource Use Score</th>\n",
       "      <th>Shareholders Score</th>\n",
       "      <th>Social Pillar Score</th>\n",
       "      <th>Split</th>\n",
       "      <th>Volume</th>\n",
       "      <th>Workforce Score</th>\n",
       "      <th>log_ret</th>\n",
       "      <th>Alpha</th>\n",
       "    </tr>\n",
       "  </thead>\n",
       "  <tbody>\n",
       "    <tr>\n",
       "      <th>0</th>\n",
       "      <td>0</td>\n",
       "      <td>2010</td>\n",
       "      <td>30.845093</td>\n",
       "      <td>31.163094</td>\n",
       "      <td>30.525322</td>\n",
       "      <td>30.852593</td>\n",
       "      <td>60912.962963</td>\n",
       "      <td>NaN</td>\n",
       "      <td>30.845093</td>\n",
       "      <td>NaN</td>\n",
       "      <td>NaN</td>\n",
       "      <td>0.0</td>\n",
       "      <td>NaN</td>\n",
       "      <td>NaN</td>\n",
       "      <td>NaN</td>\n",
       "      <td>NaN</td>\n",
       "      <td>NaN</td>\n",
       "      <td>NaN</td>\n",
       "      <td>NaN</td>\n",
       "      <td>31.163094</td>\n",
       "      <td>NaN</td>\n",
       "      <td>NaN</td>\n",
       "      <td>NaN</td>\n",
       "      <td>30.525322</td>\n",
       "      <td>NaN</td>\n",
       "      <td>30.852593</td>\n",
       "      <td>NaN</td>\n",
       "      <td>NaN</td>\n",
       "      <td>NaN</td>\n",
       "      <td>NaN</td>\n",
       "      <td>NaN</td>\n",
       "      <td>1.0</td>\n",
       "      <td>60912.962963</td>\n",
       "      <td>NaN</td>\n",
       "      <td>-0.000089</td>\n",
       "      <td>-1.055688</td>\n",
       "    </tr>\n",
       "    <tr>\n",
       "      <th>1</th>\n",
       "      <td>9</td>\n",
       "      <td>2010</td>\n",
       "      <td>38.814604</td>\n",
       "      <td>39.057985</td>\n",
       "      <td>38.256056</td>\n",
       "      <td>38.665767</td>\n",
       "      <td>5574.074074</td>\n",
       "      <td>NaN</td>\n",
       "      <td>40.578704</td>\n",
       "      <td>NaN</td>\n",
       "      <td>NaN</td>\n",
       "      <td>0.0</td>\n",
       "      <td>NaN</td>\n",
       "      <td>NaN</td>\n",
       "      <td>NaN</td>\n",
       "      <td>NaN</td>\n",
       "      <td>NaN</td>\n",
       "      <td>NaN</td>\n",
       "      <td>NaN</td>\n",
       "      <td>40.833146</td>\n",
       "      <td>NaN</td>\n",
       "      <td>NaN</td>\n",
       "      <td>NaN</td>\n",
       "      <td>39.994770</td>\n",
       "      <td>NaN</td>\n",
       "      <td>40.423102</td>\n",
       "      <td>NaN</td>\n",
       "      <td>NaN</td>\n",
       "      <td>NaN</td>\n",
       "      <td>NaN</td>\n",
       "      <td>NaN</td>\n",
       "      <td>1.0</td>\n",
       "      <td>5574.074074</td>\n",
       "      <td>NaN</td>\n",
       "      <td>0.000628</td>\n",
       "      <td>-0.605885</td>\n",
       "    </tr>\n",
       "    <tr>\n",
       "      <th>2</th>\n",
       "      <td>18</td>\n",
       "      <td>2010</td>\n",
       "      <td>4.269206</td>\n",
       "      <td>4.313814</td>\n",
       "      <td>4.220202</td>\n",
       "      <td>4.265311</td>\n",
       "      <td>409411.094444</td>\n",
       "      <td>NaN</td>\n",
       "      <td>12.583148</td>\n",
       "      <td>NaN</td>\n",
       "      <td>NaN</td>\n",
       "      <td>0.0</td>\n",
       "      <td>NaN</td>\n",
       "      <td>NaN</td>\n",
       "      <td>NaN</td>\n",
       "      <td>NaN</td>\n",
       "      <td>NaN</td>\n",
       "      <td>NaN</td>\n",
       "      <td>NaN</td>\n",
       "      <td>12.714626</td>\n",
       "      <td>NaN</td>\n",
       "      <td>NaN</td>\n",
       "      <td>NaN</td>\n",
       "      <td>12.438711</td>\n",
       "      <td>NaN</td>\n",
       "      <td>12.571667</td>\n",
       "      <td>NaN</td>\n",
       "      <td>NaN</td>\n",
       "      <td>NaN</td>\n",
       "      <td>NaN</td>\n",
       "      <td>NaN</td>\n",
       "      <td>1.0</td>\n",
       "      <td>160553.370370</td>\n",
       "      <td>NaN</td>\n",
       "      <td>0.001218</td>\n",
       "      <td>-0.236265</td>\n",
       "    </tr>\n",
       "    <tr>\n",
       "      <th>3</th>\n",
       "      <td>37</td>\n",
       "      <td>2010</td>\n",
       "      <td>4.935766</td>\n",
       "      <td>5.030044</td>\n",
       "      <td>4.830713</td>\n",
       "      <td>4.927749</td>\n",
       "      <td>396727.777778</td>\n",
       "      <td>NaN</td>\n",
       "      <td>6.612037</td>\n",
       "      <td>NaN</td>\n",
       "      <td>NaN</td>\n",
       "      <td>0.0</td>\n",
       "      <td>NaN</td>\n",
       "      <td>NaN</td>\n",
       "      <td>NaN</td>\n",
       "      <td>NaN</td>\n",
       "      <td>NaN</td>\n",
       "      <td>NaN</td>\n",
       "      <td>NaN</td>\n",
       "      <td>6.738333</td>\n",
       "      <td>NaN</td>\n",
       "      <td>NaN</td>\n",
       "      <td>NaN</td>\n",
       "      <td>6.471306</td>\n",
       "      <td>NaN</td>\n",
       "      <td>6.601296</td>\n",
       "      <td>NaN</td>\n",
       "      <td>NaN</td>\n",
       "      <td>NaN</td>\n",
       "      <td>NaN</td>\n",
       "      <td>NaN</td>\n",
       "      <td>1.0</td>\n",
       "      <td>396727.777778</td>\n",
       "      <td>NaN</td>\n",
       "      <td>0.003435</td>\n",
       "      <td>1.154216</td>\n",
       "    </tr>\n",
       "    <tr>\n",
       "      <th>4</th>\n",
       "      <td>46</td>\n",
       "      <td>2010</td>\n",
       "      <td>11.315000</td>\n",
       "      <td>11.478054</td>\n",
       "      <td>11.107165</td>\n",
       "      <td>11.292222</td>\n",
       "      <td>94481.481481</td>\n",
       "      <td>NaN</td>\n",
       "      <td>11.315000</td>\n",
       "      <td>NaN</td>\n",
       "      <td>NaN</td>\n",
       "      <td>0.0</td>\n",
       "      <td>NaN</td>\n",
       "      <td>NaN</td>\n",
       "      <td>NaN</td>\n",
       "      <td>NaN</td>\n",
       "      <td>NaN</td>\n",
       "      <td>NaN</td>\n",
       "      <td>NaN</td>\n",
       "      <td>11.478054</td>\n",
       "      <td>NaN</td>\n",
       "      <td>NaN</td>\n",
       "      <td>NaN</td>\n",
       "      <td>11.107165</td>\n",
       "      <td>NaN</td>\n",
       "      <td>11.292222</td>\n",
       "      <td>NaN</td>\n",
       "      <td>NaN</td>\n",
       "      <td>NaN</td>\n",
       "      <td>NaN</td>\n",
       "      <td>NaN</td>\n",
       "      <td>1.0</td>\n",
       "      <td>94481.481481</td>\n",
       "      <td>NaN</td>\n",
       "      <td>0.003414</td>\n",
       "      <td>1.141391</td>\n",
       "    </tr>\n",
       "  </tbody>\n",
       "</table>\n",
       "</div>"
      ],
      "text/plain": [
       "   Unnamed: 0  Year  Adj_Close   Adj_High    Adj_Low   Adj_Open  \\\n",
       "0           0  2010  30.845093  31.163094  30.525322  30.852593   \n",
       "1           9  2010  38.814604  39.057985  38.256056  38.665767   \n",
       "2          18  2010   4.269206   4.313814   4.220202   4.265311   \n",
       "3          37  2010   4.935766   5.030044   4.830713   4.927749   \n",
       "4          46  2010  11.315000  11.478054  11.107165  11.292222   \n",
       "\n",
       "      Adj_Volume  CSR Strategy Score      Close  Community Score Date  \\\n",
       "0   60912.962963                 NaN  30.845093              NaN  NaN   \n",
       "1    5574.074074                 NaN  40.578704              NaN  NaN   \n",
       "2  409411.094444                 NaN  12.583148              NaN  NaN   \n",
       "3  396727.777778                 NaN   6.612037              NaN  NaN   \n",
       "4   94481.481481                 NaN  11.315000              NaN  NaN   \n",
       "\n",
       "   Dividend  ESG Combined Score  ESG Controversies Score  \\\n",
       "0       0.0                 NaN                      NaN   \n",
       "1       0.0                 NaN                      NaN   \n",
       "2       0.0                 NaN                      NaN   \n",
       "3       0.0                 NaN                      NaN   \n",
       "4       0.0                 NaN                      NaN   \n",
       "\n",
       "  ESG Period Last Update Date  ESG Score  Emissions Score  \\\n",
       "0                         NaN        NaN              NaN   \n",
       "1                         NaN        NaN              NaN   \n",
       "2                         NaN        NaN              NaN   \n",
       "3                         NaN        NaN              NaN   \n",
       "4                         NaN        NaN              NaN   \n",
       "\n",
       "   Environment Pillar Score  Governance Pillar Score       High  \\\n",
       "0                       NaN                      NaN  31.163094   \n",
       "1                       NaN                      NaN  40.833146   \n",
       "2                       NaN                      NaN  12.714626   \n",
       "3                       NaN                      NaN   6.738333   \n",
       "4                       NaN                      NaN  11.478054   \n",
       "\n",
       "   Human Rights Score  Innovation Score Instrument        Low  \\\n",
       "0                 NaN               NaN        NaN  30.525322   \n",
       "1                 NaN               NaN        NaN  39.994770   \n",
       "2                 NaN               NaN        NaN  12.438711   \n",
       "3                 NaN               NaN        NaN   6.471306   \n",
       "4                 NaN               NaN        NaN  11.107165   \n",
       "\n",
       "   Management Score       Open Period End Date  Product Responsibility Score  \\\n",
       "0               NaN  30.852593             NaN                           NaN   \n",
       "1               NaN  40.423102             NaN                           NaN   \n",
       "2               NaN  12.571667             NaN                           NaN   \n",
       "3               NaN   6.601296             NaN                           NaN   \n",
       "4               NaN  11.292222             NaN                           NaN   \n",
       "\n",
       "   Resource Use Score  Shareholders Score  Social Pillar Score  Split  \\\n",
       "0                 NaN                 NaN                  NaN    1.0   \n",
       "1                 NaN                 NaN                  NaN    1.0   \n",
       "2                 NaN                 NaN                  NaN    1.0   \n",
       "3                 NaN                 NaN                  NaN    1.0   \n",
       "4                 NaN                 NaN                  NaN    1.0   \n",
       "\n",
       "          Volume  Workforce Score   log_ret     Alpha  \n",
       "0   60912.962963              NaN -0.000089 -1.055688  \n",
       "1    5574.074074              NaN  0.000628 -0.605885  \n",
       "2  160553.370370              NaN  0.001218 -0.236265  \n",
       "3  396727.777778              NaN  0.003435  1.154216  \n",
       "4   94481.481481              NaN  0.003414  1.141391  "
      ]
     },
     "execution_count": 97,
     "metadata": {},
     "output_type": "execute_result"
    }
   ],
   "source": [
    "aggregate_data = pd.read_csv('data/aggr_data_scores_500_alpha.csv')\n",
    "aggregate_data.head(5)\n",
    "#there are many nones below because for some years data tha was available in Quandle was missing from Refinitiv"
   ]
  },
  {
   "cell_type": "markdown",
   "metadata": {},
   "source": [
    "We need a list of all features."
   ]
  },
  {
   "cell_type": "code",
   "execution_count": 98,
   "metadata": {},
   "outputs": [
    {
     "name": "stdout",
     "output_type": "stream",
     "text": [
      "['Unnamed: 0' 'Year' 'Adj_Close' 'Adj_High' 'Adj_Low' 'Adj_Open'\n",
      " 'Adj_Volume' 'CSR Strategy Score' 'Close' 'Community Score' 'Date'\n",
      " 'Dividend' 'ESG Combined Score' 'ESG Controversies Score'\n",
      " 'ESG Period Last Update Date' 'ESG Score' 'Emissions Score'\n",
      " 'Environment Pillar Score' 'Governance Pillar Score' 'High'\n",
      " 'Human Rights Score' 'Innovation Score' 'Instrument' 'Low'\n",
      " 'Management Score' 'Open' 'Period End Date'\n",
      " 'Product Responsibility Score' 'Resource Use Score' 'Shareholders Score'\n",
      " 'Social Pillar Score' 'Split' 'Volume' 'Workforce Score' 'log_ret'\n",
      " 'Alpha']\n"
     ]
    }
   ],
   "source": [
    "col = np.array(aggregate_data.columns)\n",
    "print(col)"
   ]
  },
  {
   "cell_type": "markdown",
   "metadata": {},
   "source": [
    "We need to drop rows with excessive NaN values and do something with the NaNs we do not drop"
   ]
  },
  {
   "cell_type": "code",
   "execution_count": 99,
   "metadata": {},
   "outputs": [
    {
     "data": {
      "text/plain": [
       "(533, 36)"
      ]
     },
     "execution_count": 99,
     "metadata": {},
     "output_type": "execute_result"
    }
   ],
   "source": [
    "#we have to drop nans\n",
    "aggregate_data = aggregate_data.dropna(axis='rows', thresh=33) #this means that if there are more than 33 NaNs the row will be dropped\n",
    "aggregate_data = aggregate_data.fillna(0)\n",
    "aggregate_data.shape"
   ]
  },
  {
   "cell_type": "code",
   "execution_count": 100,
   "metadata": {},
   "outputs": [
    {
     "data": {
      "text/plain": [
       "(533, 16)"
      ]
     },
     "execution_count": 100,
     "metadata": {},
     "output_type": "execute_result"
    }
   ],
   "source": [
    "#create the X vector by dropping unwanted features\n",
    "X = aggregate_data.drop(axis = 1,labels = ['Year','Instrument','Period End Date','Open','High','Low',\n",
    "                                 'Close','Volume','Dividend','Split','Adj_Open','Adj_High',\n",
    "                                 'Adj_Low','Adj_Volume','Date',\n",
    "                                 'Adj_Close',\n",
    "                                 'log_ret',\n",
    "                                 'Alpha',\n",
    "                                 'ESG Period Last Update Date', #irrelevant and causes trouble\n",
    "                                 'Unnamed: 0', #introduced by the alpha calculation process - means nothing\n",
    "                                ])\n",
    "#replace Trues with 1 and Falses with 0\n",
    "#this works only on strings. Fields that are defined as booleans are fine.\n",
    "X = X.replace('True',1)\n",
    "X = X.replace('False',0)\n",
    "\n",
    "y = aggregate_data['Adj_Close']\n",
    "y2 = aggregate_data['log_ret']\n",
    "y3 = aggregate_data['Alpha']\n",
    "\n",
    "X.shape"
   ]
  },
  {
   "cell_type": "code",
   "execution_count": 101,
   "metadata": {},
   "outputs": [
    {
     "data": {
      "text/plain": [
       "LinearRegression(copy_X=True, fit_intercept=False, n_jobs=1, normalize=False)"
      ]
     },
     "execution_count": 101,
     "metadata": {},
     "output_type": "execute_result"
    }
   ],
   "source": [
    "from sklearn.linear_model import LinearRegression\n",
    "model = LinearRegression(fit_intercept=False)\n",
    "\n",
    "model.fit(X,y)"
   ]
  },
  {
   "cell_type": "markdown",
   "metadata": {},
   "source": [
    "By sorting regression coefficients we can see which ESG features are important for each performance metric. More specifically we can see which features affect the metric negatively, which positively and to which the metric is indifferent."
   ]
  },
  {
   "cell_type": "code",
   "execution_count": 102,
   "metadata": {},
   "outputs": [
    {
     "name": "stdout",
     "output_type": "stream",
     "text": [
      "Social Pillar Score             -8.033173\n",
      "Emissions Score                 -6.950419\n",
      "Resource Use Score              -6.340002\n",
      "Innovation Score                -6.121963\n",
      "ESG Score                       -1.230015\n",
      "ESG Combined Score              -0.504230\n",
      "CSR Strategy Score               0.062091\n",
      "Governance Pillar Score          0.132524\n",
      "Shareholders Score               0.133699\n",
      "Management Score                 0.148773\n",
      "ESG Controversies Score          0.484048\n",
      "Human Rights Score               1.244849\n",
      "Community Score                  1.678616\n",
      "Product Responsibility Score     2.034902\n",
      "Workforce Score                  3.760503\n",
      "Environment Pillar Score        20.232934\n",
      "dtype: float64\n"
     ]
    }
   ],
   "source": [
    "#get the coefficients\n",
    "params = pd.Series(model.coef_, index=X.columns)\n",
    "print(params.sort_values())"
   ]
  },
  {
   "cell_type": "markdown",
   "metadata": {},
   "source": [
    "### Regularisation\n",
    "\n",
    "More sofisticated regression techniques include a regualarisation function. Here we used _Lasso_ and _Ridge_ regression."
   ]
  },
  {
   "cell_type": "code",
   "execution_count": 103,
   "metadata": {},
   "outputs": [
    {
     "name": "stderr",
     "output_type": "stream",
     "text": [
      "C:\\Users\\George\\Anaconda3\\lib\\site-packages\\sklearn\\linear_model\\coordinate_descent.py:491: ConvergenceWarning: Objective did not converge. You might want to increase the number of iterations. Fitting data with very small alpha may cause precision problems.\n",
      "  ConvergenceWarning)\n"
     ]
    },
    {
     "data": {
      "text/plain": [
       "Lasso(alpha=0.0001, copy_X=True, fit_intercept=False, max_iter=1000,\n",
       "   normalize=False, positive=False, precompute=False, random_state=None,\n",
       "   selection='cyclic', tol=0.0001, warm_start=False)"
      ]
     },
     "execution_count": 103,
     "metadata": {},
     "output_type": "execute_result"
    }
   ],
   "source": [
    "from sklearn.linear_model import Lasso\n",
    "model2 = Lasso(fit_intercept=False,alpha=0.0001)\n",
    "\n",
    "model2.fit(X,y)"
   ]
  },
  {
   "cell_type": "code",
   "execution_count": 104,
   "metadata": {},
   "outputs": [
    {
     "name": "stdout",
     "output_type": "stream",
     "text": [
      "Social Pillar Score            -0.651844\n",
      "ESG Combined Score             -0.519297\n",
      "Emissions Score                -0.235667\n",
      "Resource Use Score             -0.192200\n",
      "Community Score                -0.168183\n",
      "Management Score               -0.128128\n",
      "Governance Pillar Score        -0.115641\n",
      "CSR Strategy Score             -0.008223\n",
      "Innovation Score                0.022023\n",
      "Shareholders Score              0.032169\n",
      "Workforce Score                 0.073621\n",
      "Human Rights Score              0.204219\n",
      "Product Responsibility Score    0.423359\n",
      "Environment Pillar Score        0.448773\n",
      "ESG Controversies Score         0.490710\n",
      "ESG Score                       1.057260\n",
      "dtype: float64\n"
     ]
    }
   ],
   "source": [
    "params = pd.Series(model2.coef_, index=X.columns)\n",
    "print(params.sort_values())"
   ]
  },
  {
   "cell_type": "code",
   "execution_count": 105,
   "metadata": {},
   "outputs": [
    {
     "data": {
      "text/plain": [
       "Ridge(alpha=0.001, copy_X=True, fit_intercept=False, max_iter=None,\n",
       "   normalize=False, random_state=None, solver='auto', tol=0.001)"
      ]
     },
     "execution_count": 105,
     "metadata": {},
     "output_type": "execute_result"
    }
   ],
   "source": [
    "from sklearn.linear_model import Ridge\n",
    "\n",
    "model3 = Ridge(fit_intercept=False,alpha=0.001)\n",
    "model3.fit(X,y)"
   ]
  },
  {
   "cell_type": "code",
   "execution_count": 106,
   "metadata": {},
   "outputs": [
    {
     "name": "stdout",
     "output_type": "stream",
     "text": [
      "Social Pillar Score             -8.022560\n",
      "Emissions Score                 -6.947295\n",
      "Resource Use Score              -6.337143\n",
      "Innovation Score                -6.119106\n",
      "ESG Score                       -1.230163\n",
      "ESG Combined Score              -0.504245\n",
      "CSR Strategy Score               0.062094\n",
      "Governance Pillar Score          0.132544\n",
      "Shareholders Score               0.133705\n",
      "Management Score                 0.148791\n",
      "ESG Controversies Score          0.484053\n",
      "Human Rights Score               1.243509\n",
      "Community Score                  1.676236\n",
      "Product Responsibility Score     2.032822\n",
      "Workforce Score                  3.755748\n",
      "Environment Pillar Score        20.224146\n",
      "dtype: float64\n"
     ]
    }
   ],
   "source": [
    "params = pd.Series(model3.coef_, index=X.columns)\n",
    "print(params.sort_values())"
   ]
  },
  {
   "cell_type": "markdown",
   "metadata": {},
   "source": [
    "We started our analysis with the average closing stocks price of each company. However this sheer stock price is not a good measure for profitability. Below, we repeat the above process for Log Returns and a metric representative of Alpha."
   ]
  },
  {
   "cell_type": "markdown",
   "metadata": {},
   "source": [
    "## Log Returns (Yearly Average)"
   ]
  },
  {
   "cell_type": "code",
   "execution_count": 107,
   "metadata": {
    "scrolled": true
   },
   "outputs": [
    {
     "name": "stdout",
     "output_type": "stream",
     "text": [
      "Workforce Score                -0.000776\n",
      "Environment Pillar Score       -0.000476\n",
      "Community Score                -0.000386\n",
      "Product Responsibility Score   -0.000336\n",
      "Human Rights Score             -0.000211\n",
      "ESG Score                      -0.000128\n",
      "ESG Controversies Score        -0.000003\n",
      "CSR Strategy Score              0.000008\n",
      "Shareholders Score              0.000009\n",
      "Governance Pillar Score         0.000012\n",
      "Management Score                0.000014\n",
      "ESG Combined Score              0.000021\n",
      "Resource Use Score              0.000155\n",
      "Innovation Score                0.000165\n",
      "Emissions Score                 0.000181\n",
      "Social Pillar Score             0.001761\n",
      "dtype: float64\n"
     ]
    }
   ],
   "source": [
    "from sklearn.linear_model import LinearRegression\n",
    "model = LinearRegression(fit_intercept=False)\n",
    "\n",
    "model.fit(X,y2)\n",
    "\n",
    "#get the coefficients\n",
    "params = pd.Series(model.coef_, index=X.columns)\n",
    "print(params.sort_values())"
   ]
  },
  {
   "cell_type": "code",
   "execution_count": 108,
   "metadata": {},
   "outputs": [
    {
     "name": "stdout",
     "output_type": "stream",
     "text": [
      "Resource Use Score             -1.053608e-05\n",
      "ESG Score                      -7.156741e-06\n",
      "Environment Pillar Score       -3.430390e-06\n",
      "ESG Controversies Score        -3.102196e-06\n",
      "Management Score               -2.182483e-06\n",
      "Workforce Score                -1.975079e-06\n",
      "Emissions Score                -8.473259e-07\n",
      "Innovation Score               -7.290217e-07\n",
      "Governance Pillar Score        -0.000000e+00\n",
      "Social Pillar Score             0.000000e+00\n",
      "Community Score                 8.691892e-07\n",
      "Product Responsibility Score    2.169457e-06\n",
      "Shareholders Score              3.638889e-06\n",
      "CSR Strategy Score              3.741760e-06\n",
      "Human Rights Score              7.379974e-06\n",
      "ESG Combined Score              2.269089e-05\n",
      "dtype: float64\n"
     ]
    },
    {
     "name": "stderr",
     "output_type": "stream",
     "text": [
      "C:\\Users\\George\\Anaconda3\\lib\\site-packages\\sklearn\\linear_model\\coordinate_descent.py:491: ConvergenceWarning: Objective did not converge. You might want to increase the number of iterations. Fitting data with very small alpha may cause precision problems.\n",
      "  ConvergenceWarning)\n"
     ]
    }
   ],
   "source": [
    "from sklearn.linear_model import Lasso\n",
    "\n",
    "model = Lasso(fit_intercept=False,alpha = 0.00001)\n",
    "\n",
    "model.fit(X,y2)\n",
    "\n",
    "#get the coefficients\n",
    "params = pd.Series(model.coef_, index=X.columns)\n",
    "print(params.sort_values())"
   ]
  },
  {
   "cell_type": "code",
   "execution_count": 109,
   "metadata": {},
   "outputs": [
    {
     "name": "stdout",
     "output_type": "stream",
     "text": [
      "Workforce Score                -0.000767\n",
      "Environment Pillar Score       -0.000473\n",
      "Community Score                -0.000382\n",
      "Product Responsibility Score   -0.000332\n",
      "Human Rights Score             -0.000208\n",
      "ESG Score                      -0.000126\n",
      "ESG Controversies Score        -0.000003\n",
      "CSR Strategy Score              0.000007\n",
      "Shareholders Score              0.000009\n",
      "Governance Pillar Score         0.000012\n",
      "Management Score                0.000013\n",
      "ESG Combined Score              0.000021\n",
      "Resource Use Score              0.000154\n",
      "Innovation Score                0.000164\n",
      "Emissions Score                 0.000180\n",
      "Social Pillar Score             0.001739\n",
      "dtype: float64\n"
     ]
    }
   ],
   "source": [
    "from sklearn.linear_model import Ridge\n",
    "\n",
    "model = Ridge(fit_intercept=False,alpha = 0.01)\n",
    "\n",
    "model.fit(X,y2)\n",
    "\n",
    "#get the coefficients\n",
    "params = pd.Series(model.coef_, index=X.columns)\n",
    "print(params.sort_values())"
   ]
  },
  {
   "cell_type": "markdown",
   "metadata": {},
   "source": [
    "## Alpha"
   ]
  },
  {
   "cell_type": "code",
   "execution_count": 110,
   "metadata": {},
   "outputs": [
    {
     "name": "stdout",
     "output_type": "stream",
     "text": [
      "Social Pillar Score            -16.359298\n",
      "Environment Pillar Score        -0.806599\n",
      "Management Score                -0.242652\n",
      "Governance Pillar Score         -0.163243\n",
      "ESG Combined Score              -0.127885\n",
      "Shareholders Score              -0.064846\n",
      "ESG Controversies Score         -0.016693\n",
      "CSR Strategy Score               0.018977\n",
      "Innovation Score                 0.072037\n",
      "Emissions Score                  0.083856\n",
      "Resource Use Score               0.132169\n",
      "ESG Score                        1.718025\n",
      "Human Rights Score               1.940346\n",
      "Product Responsibility Score     3.112921\n",
      "Community Score                  3.566763\n",
      "Workforce Score                  7.154550\n",
      "dtype: float64\n"
     ]
    }
   ],
   "source": [
    "model = LinearRegression(fit_intercept=False)\n",
    "model.fit(X,y3)\n",
    "\n",
    "#get the coefficients\n",
    "params = pd.Series(model.coef_, index=X.columns)\n",
    "print(params.sort_values())"
   ]
  },
  {
   "cell_type": "code",
   "execution_count": 111,
   "metadata": {},
   "outputs": [
    {
     "name": "stdout",
     "output_type": "stream",
     "text": [
      "ESG Combined Score             -0.146579\n",
      "Human Rights Score             -0.061279\n",
      "Environment Pillar Score       -0.047743\n",
      "Governance Pillar Score        -0.012156\n",
      "ESG Controversies Score        -0.010728\n",
      "Management Score               -0.008880\n",
      "Product Responsibility Score    0.003777\n",
      "ESG Score                       0.005402\n",
      "Community Score                 0.011316\n",
      "Innovation Score                0.015754\n",
      "Shareholders Score              0.020810\n",
      "Social Pillar Score             0.023600\n",
      "Emissions Score                 0.024522\n",
      "Workforce Score                 0.049351\n",
      "Resource Use Score              0.074193\n",
      "CSR Strategy Score              0.074885\n",
      "dtype: float64\n"
     ]
    },
    {
     "name": "stderr",
     "output_type": "stream",
     "text": [
      "C:\\Users\\George\\Anaconda3\\lib\\site-packages\\sklearn\\linear_model\\coordinate_descent.py:491: ConvergenceWarning: Objective did not converge. You might want to increase the number of iterations. Fitting data with very small alpha may cause precision problems.\n",
      "  ConvergenceWarning)\n"
     ]
    }
   ],
   "source": [
    "model = Lasso(fit_intercept=False,alpha = 0.00001)\n",
    "model.fit(X,y3)\n",
    "#get the coefficients\n",
    "params = pd.Series(model.coef_, index=X.columns)\n",
    "print(params.sort_values())"
   ]
  },
  {
   "cell_type": "code",
   "execution_count": 113,
   "metadata": {},
   "outputs": [
    {
     "name": "stdout",
     "output_type": "stream",
     "text": [
      "Social Pillar Score            -16.164147\n",
      "Environment Pillar Score        -0.809196\n",
      "Management Score                -0.240156\n",
      "Governance Pillar Score         -0.161391\n",
      "ESG Combined Score              -0.128113\n",
      "Shareholders Score              -0.063931\n",
      "ESG Controversies Score         -0.016620\n",
      "CSR Strategy Score               0.019571\n",
      "Innovation Score                 0.074980\n",
      "Emissions Score                  0.087097\n",
      "Resource Use Score               0.135095\n",
      "ESG Score                        1.698978\n",
      "Human Rights Score               1.916442\n",
      "Product Responsibility Score     3.075793\n",
      "Community Score                  3.524302\n",
      "Workforce Score                  7.069699\n",
      "dtype: float64\n"
     ]
    }
   ],
   "source": [
    "model = Ridge(fit_intercept=False,alpha = 0.01)\n",
    "model.fit(X,y3)\n",
    "#get the coefficients\n",
    "params = pd.Series(model.coef_, index=X.columns)\n",
    "print(params.sort_values())"
   ]
  },
  {
   "cell_type": "markdown",
   "metadata": {},
   "source": [
    "### Model Evaluation"
   ]
  },
  {
   "cell_type": "code",
   "execution_count": 135,
   "metadata": {},
   "outputs": [],
   "source": [
    "y_pred = model.predict(X)\n",
    "score = sklearn.metrics.mean_squared_error(y3, y_pred)"
   ]
  },
  {
   "cell_type": "code",
   "execution_count": 137,
   "metadata": {},
   "outputs": [
    {
     "name": "stdout",
     "output_type": "stream",
     "text": [
      "Root Mean Squared Error = 18.537\n"
     ]
    }
   ],
   "source": [
    "print(\"Root Mean Squared Error = %.3f\" % (np.sqrt(score)))"
   ]
  },
  {
   "cell_type": "code",
   "execution_count": 138,
   "metadata": {},
   "outputs": [
    {
     "data": {
      "text/plain": [
       "18.53739106596391"
      ]
     },
     "execution_count": 138,
     "metadata": {},
     "output_type": "execute_result"
    }
   ],
   "source": [
    "#just to make sure\n",
    "np.sqrt(np.mean((y3-y_pred)**2))"
   ]
  },
  {
   "cell_type": "markdown",
   "metadata": {},
   "source": [
    "The truth is that on its own this metric does not tell us much about how succesfull our regression was. Taking that as a value for alpha though we must admit that it seems like quite a large value."
   ]
  },
  {
   "cell_type": "markdown",
   "metadata": {},
   "source": [
    "## Make a Prediction\n",
    "\n",
    "We can use above model to make a prediction of the yearly average alpha of a given asset. This can be used to project alpha values in the future once new ESG measures become available."
   ]
  },
  {
   "cell_type": "code",
   "execution_count": 55,
   "metadata": {},
   "outputs": [],
   "source": [
    "##### Rifinitiv #####\n",
    "\n",
    "# The following values are populated for you by Data Science Accelerator. \n",
    "# They represent your demo-level access to the data.\n",
    "# Please don't share this with anyone\n",
    "\n",
    "RESOURCE_ENDPOINT = 'https://dsa-stg-edp-api.fr-nonprod.aws.thomsonreuters.com/data/environmental-social-governance/v1/views/scores-full'\n",
    "\n",
    "# RESOURCE_ENDPOINT = 'https://dsa-stg-edp-api.fr-nonprod.aws.thomsonreuters.com/data/environmental-social-governance/v1/views/measures-full'\n",
    "\n",
    "access_token = 'uGR7cxvvqJ4mgWwva5pPN184iGGigBhY8g4ThFu0' # personal key for Data Science Accelerator access to ESG\n",
    "access_token = 'u5dfd3sUDp1tsQrrvEGvU6VXbl9ooVCc49Ry7Lmb'\n",
    "def get_data_request(url, requestData):\n",
    "    '''HTTP GET request'''\n",
    "    dResp = requests.get(url, headers = {'X-api-key': access_token}, params = requestData);       \n",
    "\n",
    "    if dResp.status_code != 200:\n",
    "        raise ValueError(\"Unable to get data. Code %s, Message: %s\" % (dResp.status_code, dResp.text));\n",
    "    else:\n",
    "        print(\"Data access successful\")\n",
    "        jResp = json.loads(dResp.text);\n",
    "        return jResp\n",
    "\n",
    "def get_data(ric):\n",
    "    '''Gets ESG scores for a specific RIC (company) code'''\n",
    "    \n",
    "    requestData = {\n",
    "    \"universe\": ric\n",
    "    };\n",
    "\n",
    "    jResp = get_data_request(RESOURCE_ENDPOINT, requestData)\n",
    "\n",
    "    data = jResp[\"data\"]\n",
    "    headers = jResp[\"headers\"]    \n",
    "\n",
    "    names = [headers[x]['title'] for x in range(len(headers))]\n",
    "\n",
    "    df = pd.DataFrame(data, columns=names )\n",
    "    \n",
    "    return df"
   ]
  },
  {
   "cell_type": "markdown",
   "metadata": {},
   "source": [
    "Below select our asset and get from the refinitiv dataset."
   ]
  },
  {
   "cell_type": "code",
   "execution_count": 68,
   "metadata": {},
   "outputs": [
    {
     "name": "stdout",
     "output_type": "stream",
     "text": [
      "Data access successful\n"
     ]
    }
   ],
   "source": [
    "asset = 'BLK' #this will work for an asset in the ESG refinitiv dataset\n",
    "\n",
    "refinitiv_data = get_data(asset)"
   ]
  },
  {
   "cell_type": "code",
   "execution_count": 146,
   "metadata": {},
   "outputs": [
    {
     "name": "stdout",
     "output_type": "stream",
     "text": [
      "2017-12-31\n"
     ]
    }
   ],
   "source": [
    "#fine latest entry\n",
    "print(refinitiv_data['Period End Date'][0])"
   ]
  },
  {
   "cell_type": "markdown",
   "metadata": {},
   "source": [
    "This means that our prediction will be based on the ESG feautres measured for the chosen asset on the above date."
   ]
  },
  {
   "cell_type": "markdown",
   "metadata": {},
   "source": [
    "Below are the feautres used in the regression (in the correct order) and our best estimates for the coefficients."
   ]
  },
  {
   "cell_type": "code",
   "execution_count": 141,
   "metadata": {},
   "outputs": [],
   "source": [
    "columns = ['CSR Strategy Score', 'Community Score', 'ESG Combined Score',\n",
    "       'ESG Controversies Score', 'ESG Score', 'Emissions Score',\n",
    "       'Environment Pillar Score', 'Governance Pillar Score',\n",
    "       'Human Rights Score', 'Innovation Score', 'Management Score',\n",
    "       'Product Responsibility Score', 'Resource Use Score',\n",
    "       'Shareholders Score', 'Social Pillar Score', 'Workforce Score']\n",
    "coef = np.array([  0.01957125,   3.52430248,  -0.12811288,  -0.01661968,\n",
    "         1.69897779,   0.08709694,  -0.80919645,  -0.16139058,\n",
    "         1.91644184,   0.07498013,  -0.2401559 ,   3.07579314,\n",
    "         0.13509532,  -0.06393098, -16.16414683,   7.06969857])"
   ]
  },
  {
   "cell_type": "code",
   "execution_count": 153,
   "metadata": {},
   "outputs": [
    {
     "name": "stdout",
     "output_type": "stream",
     "text": [
      "This is the estimated yearly average of alpha for the chosen asset: 4.329\n"
     ]
    }
   ],
   "source": [
    "predictor = Ridge(fit_intercept=False,alpha = 0.01)\n",
    "predictor.coef_ = coef\n",
    "Xpred2 = np.array(refinitiv_data.loc[0][columns])\n",
    "\n",
    "ypred2 = model.predict(Xpred.reshape(1, -1))\n",
    "print('This is the estimated yearly average of alpha for the chosen asset: %.3f' %(ypred2[0]))"
   ]
  }
 ],
 "metadata": {
  "kernelspec": {
   "display_name": "Python 3",
   "language": "python",
   "name": "python3"
  },
  "language_info": {
   "codemirror_mode": {
    "name": "ipython",
    "version": 3
   },
   "file_extension": ".py",
   "mimetype": "text/x-python",
   "name": "python",
   "nbconvert_exporter": "python",
   "pygments_lexer": "ipython3",
   "version": "3.7.4"
  }
 },
 "nbformat": 4,
 "nbformat_minor": 2
}
